{
 "cells": [
  {
   "cell_type": "code",
   "execution_count": 6,
   "metadata": {
    "collapsed": true
   },
   "outputs": [],
   "source": [
    "%matplotlib inline\n",
    "\n",
    "import numpy as np\n",
    "import matplotlib\n",
    "import matplotlib.pyplot as plt\n",
    "from IPython.display import Image"
   ]
  },
  {
   "cell_type": "code",
   "execution_count": 7,
   "metadata": {
    "collapsed": true
   },
   "outputs": [],
   "source": [
    "data = np.genfromtxt('data.csv', delimiter=',')"
   ]
  },
  {
   "cell_type": "code",
   "execution_count": 8,
   "metadata": {
    "collapsed": true
   },
   "outputs": [],
   "source": [
    "x = []\n",
    "y = []\n",
    "\n",
    "for i in range(0, len(data)):\n",
    "    x.append(data[i][0])\n",
    "    y.append(data[i][1])"
   ]
  },
  {
   "cell_type": "code",
   "execution_count": 9,
   "metadata": {
    "collapsed": false
   },
   "outputs": [
    {
     "data": {
      "text/plain": [
       "<matplotlib.collections.PathCollection at 0x107e8d780>"
      ]
     },
     "execution_count": 9,
     "metadata": {},
     "output_type": "execute_result"
    },
    {
     "data": {
      "image/png": "[encoded data removed]",
      "text/plain": [
       "<matplotlib.figure.Figure at 0x10fe180b8>"
      ]
     },
     "metadata": {},
     "output_type": "display_data"
    }
   ],
   "source": [
    "plt.scatter(x, y)"
   ]
  },
  {
   "cell_type": "code",
   "execution_count": 10,
   "metadata": {
    "collapsed": true
   },
   "outputs": [],
   "source": [
    "initial_m = 0\n",
    "initial_b = 0"
   ]
  },
  {
   "cell_type": "code",
   "execution_count": 11,
   "metadata": {
    "collapsed": false
   },
   "outputs": [
    {
     "data": {
      "image/png": "[encoded data removed]",
      "text/plain": [
       "<IPython.core.display.Image object>"
      ]
     },
     "execution_count": 11,
     "metadata": {},
     "output_type": "execute_result"
    }
   ],
   "source": [
    "Image(filename='linear_regression_error.png')"
   ]
  },
  {
   "cell_type": "code",
   "execution_count": 58,
   "metadata": {
    "collapsed": false
   },
   "outputs": [],
   "source": [
    "def compute_error(m, b, x, y):\n",
    "    totalError = 0\n",
    "    \n",
    "    for i in range(0, len(x)):\n",
    "        totalError += ((y[i] - (m * x[i] + b)) **2)\n",
    "    \n",
    "    totalError = totalError / float(len(x))\n",
    "    return totalError"
   ]
  },
  {
   "cell_type": "code",
   "execution_count": 59,
   "metadata": {
    "collapsed": false
   },
   "outputs": [
    {
     "name": "stdout",
     "output_type": "stream",
     "text": [
      "initial mean squared error:  5565.10783448\n"
     ]
    }
   ],
   "source": [
    "print('initial mean squared error: ', compute_error(initial_m, initial_b, x, y))"
   ]
  },
  {
   "cell_type": "code",
   "execution_count": 65,
   "metadata": {
    "collapsed": false
   },
   "outputs": [
    {
     "data": {
      "image/png": "[encoded data removed]",
      "text/plain": [
       "<IPython.core.display.Image object>"
      ]
     },
     "execution_count": 65,
     "metadata": {},
     "output_type": "execute_result"
    }
   ],
   "source": [
    "Image(filename='linear_regression_gradient.png')"
   ]
  },
  {
   "cell_type": "code",
   "execution_count": 66,
   "metadata": {
    "collapsed": true
   },
   "outputs": [],
   "source": [
    "def linear_formula(x, m, b):\n",
    "    return (m * x) + b\n",
    "\n",
    "def gradient_step(x, y, current_m, current_b, learning_rate):\n",
    "    gradient_m = 0\n",
    "    gradient_b = 0\n",
    "    N = float(len(x))\n",
    "    \n",
    "    for i in range(0, len(x)):\n",
    "        gradient_m += (-2/N) * x[i] * (y[i] - linear_formula(x[i], current_m, current_b))\n",
    "        gradient_b += (-2/N) * (y[i] - linear_formula(x[i], current_m, current_b))\n",
    "    \n",
    "    new_m = current_m - (learning_rate * gradient_m)\n",
    "    new_b = current_b - (learning_rate * gradient_b)\n",
    "    \n",
    "    return [new_m, new_b]"
   ]
  },
  {
   "cell_type": "code",
   "execution_count": 96,
   "metadata": {
    "collapsed": true
   },
   "outputs": [],
   "source": [
    "def gradient_descent(x, y, current_m, current_b, learning_rate, epochs):\n",
    "    m = current_m\n",
    "    b = current_b\n",
    "    \n",
    "    check_iter = 100\n",
    "    \n",
    "    for i in range(epochs):\n",
    "        m, b = gradient_step(x, y, m, b, learning_rate)\n",
    "        \n",
    "        if i % check_iter == 0:\n",
    "            print(\"epoch[\", i, \"] - loss: \", compute_error(m, b, x, y))\n",
    "        \n",
    "    return [m, b]"
   ]
  },
  {
   "cell_type": "code",
   "execution_count": 97,
   "metadata": {
    "collapsed": true
   },
   "outputs": [],
   "source": [
    "learning_rate = 0.0001\n",
    "epochs = 1000"
   ]
  },
  {
   "cell_type": "code",
   "execution_count": 98,
   "metadata": {
    "collapsed": false
   },
   "outputs": [
    {
     "name": "stdout",
     "output_type": "stream",
     "text": [
      "epoch[ 0 ] - loss:  1484.58655741\n",
      "epoch[ 100 ] - loss:  112.64702057\n",
      "epoch[ 200 ] - loss:  112.643416004\n",
      "epoch[ 300 ] - loss:  112.639816876\n",
      "epoch[ 400 ] - loss:  112.636223176\n",
      "epoch[ 500 ] - loss:  112.632634897\n",
      "epoch[ 600 ] - loss:  112.629052031\n",
      "epoch[ 700 ] - loss:  112.62547457\n",
      "epoch[ 800 ] - loss:  112.621902504\n",
      "epoch[ 900 ] - loss:  112.618335827\n",
      "m:  1.47774408519 b:  0.0889365199374\n"
     ]
    }
   ],
   "source": [
    "m, b = gradient_descent(x, y, initial_m, initial_b, learning_rate, epochs)\n",
    "print(\"m: \", m, \"b: \", b)"
   ]
  },
  {
   "cell_type": "code",
   "execution_count": 85,
   "metadata": {
    "collapsed": false
   },
   "outputs": [],
   "source": [
    "pred_y = []\n",
    "\n",
    "for i in range(0, len(x)):\n",
    "    pred_y.append(linear_formula(x[i], m, b))"
   ]
  },
  {
   "cell_type": "code",
   "execution_count": 95,
   "metadata": {
    "collapsed": false
   },
   "outputs": [
    {
     "data": {
      "text/plain": [
       "<matplotlib.collections.PathCollection at 0x112bc57f0>"
      ]
     },
     "execution_count": 95,
     "metadata": {},
     "output_type": "execute_result"
    },
    {
     "data": {
      "image/png": "[encoded data removed]",
      "text/plain": [
       "<matplotlib.figure.Figure at 0x112bc50b8>"
      ]
     },
     "metadata": {},
     "output_type": "display_data"
    }
   ],
   "source": [
    "plt.scatter(x, y)\n",
    "plt.scatter(x, pred_y, s=12)"
   ]
  },
  {
   "cell_type": "code",
   "execution_count": null,
   "metadata": {
    "collapsed": true
   },
   "outputs": [],
   "source": []
  }
 ],
 "metadata": {
  "kernelspec": {
   "display_name": "Python 3",
   "language": "python",
   "name": "python3"
  }
 },
 "nbformat": 4,
 "nbformat_minor": 2
}
